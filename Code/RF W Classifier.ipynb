{
 "cells": [
  {
   "cell_type": "markdown",
   "id": "b28e6843-291f-414e-bc72-ffda29d0f6a2",
   "metadata": {},
   "source": [
    "# Win Classifier - Random Forest"
   ]
  },
  {
   "cell_type": "code",
   "execution_count": 3,
   "id": "70cae4c5-8c05-417f-a698-bffeccf05bed",
   "metadata": {
    "tags": []
   },
   "outputs": [],
   "source": [
    "import numpy as np\n",
    "import pandas as pd\n",
    "\n",
    "from sklearn.model_selection import train_test_split\n",
    "from sklearn.ensemble import RandomForestClassifier\n",
    "from sklearn import metrics"
   ]
  },
  {
   "cell_type": "code",
   "execution_count": 4,
   "id": "a006cc6b-b42f-4e23-8768-ac2171f64758",
   "metadata": {
    "tags": []
   },
   "outputs": [],
   "source": [
    "games = pd.read_csv('../Data/MLBgames.csv')"
   ]
  },
  {
   "cell_type": "code",
   "execution_count": null,
   "id": "5c755afc-4d6f-42cf-bfaa-a60635508aa0",
   "metadata": {},
   "outputs": [],
   "source": []
  }
 ],
 "metadata": {
  "kernelspec": {
   "display_name": "Python 3 (ipykernel)",
   "language": "python",
   "name": "python3"
  },
  "language_info": {
   "codemirror_mode": {
    "name": "ipython",
    "version": 3
   },
   "file_extension": ".py",
   "mimetype": "text/x-python",
   "name": "python",
   "nbconvert_exporter": "python",
   "pygments_lexer": "ipython3",
   "version": "3.11.4"
  }
 },
 "nbformat": 4,
 "nbformat_minor": 5
}
