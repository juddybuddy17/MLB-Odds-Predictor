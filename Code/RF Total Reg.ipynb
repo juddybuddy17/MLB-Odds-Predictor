{
 "cells": [
  {
   "cell_type": "markdown",
   "id": "82ff58f3-2b36-47c9-86b1-5c2e95c39bf0",
   "metadata": {},
   "source": [
    "# Total Runs Model -  Random Forest"
   ]
  },
  {
   "cell_type": "code",
   "execution_count": 1,
   "id": "bbaa6ca6-0860-403a-9746-06940f2a2c4a",
   "metadata": {
    "tags": []
   },
   "outputs": [],
   "source": [
    "import numpy as np\n",
    "import pandas as pd\n",
    "\n",
    "from sklearn.model_selection import train_test_split\n",
    "from sklearn.ensemble import RandomForestRegressor\n",
    "from sklearn.preprocessing import OneHotEncoder\n",
    "from sklearn.compose import ColumnTransformer\n",
    "from sklearn.pipeline import Pipeline\n",
    "from sklearn.model_selection import cross_val_score\n",
    "from sklearn import metrics\n",
    "\n",
    "pd.set_option('display.max_columns', 2105)\n",
    "pd.set_option('display.max_rows',500)"
   ]
  },
  {
   "cell_type": "code",
   "execution_count": 2,
   "id": "ae359161-36fc-4d74-8f9a-b2860267afb2",
   "metadata": {
    "tags": []
   },
   "outputs": [],
   "source": [
    "games = pd.read_csv('../Data/MLBgames.csv')"
   ]
  },
  {
   "cell_type": "code",
   "execution_count": null,
   "id": "83ee57d6-f49f-481e-934a-07671dc7a0e6",
   "metadata": {},
   "outputs": [],
   "source": [
    "# taking the last years data for validation data\n",
    "val_data = "
   ]
  },
  {
   "cell_type": "code",
   "execution_count": null,
   "id": "dc1a873f-c7f1-4f16-bcda-0525a3f99e2d",
   "metadata": {},
   "outputs": [],
   "source": []
  },
  {
   "cell_type": "code",
   "execution_count": 3,
   "id": "898bffbd-da22-4c0d-b1bf-417f89d65934",
   "metadata": {
    "tags": []
   },
   "outputs": [],
   "source": [
    "X = games[['v_runs', 'h_runs', 'total_outs', 'v_abs','v_hits','v_2b','v_3b','v_hr','v_rbis','v_sacbunt','v_sacfly','v_hbp','v_bb','v_ibb','v_k','v_sb',\n",
    "           'v_cs','v_gidp','v_ci','v_lob','v_p_used','v_ind_er','v_team_er','v_wildp','v_balk','v_putouts','v_assts','v_errors','v_passed_ball','v_dp',\n",
    "           'v_trip','h_abs','h_hits','h_2b','h_3b','h_hr','h_rbis','h_sacbunt','h_sacfly','h_hbp','h_bb','h_ibb','h_k','h_sb','h_cs','h_gidp','h_ci',\n",
    "           'h_lob','h_p_used','h_ind_er','h_team_er','h_wildp','h_balk','h_putouts','h_assts','h_errors','h_passed_ball','h_dp','h_trip','run_diff', \n",
    "           'W', 'L']]\n",
    "y = games['total']"
   ]
  },
  {
   "cell_type": "code",
   "execution_count": 4,
   "id": "4fc5f2de-8ae8-4610-a4e1-a524785d5725",
   "metadata": {
    "tags": []
   },
   "outputs": [],
   "source": [
    "categorical_columns = ['W', 'L']\n",
    "\n",
    "# Create a ColumnTransformer with one-hot encoding\n",
    "ct = ColumnTransformer(\n",
    "    transformers=[\n",
    "        ('oh', OneHotEncoder(drop='first', sparse_output=False, handle_unknown='ignore'), categorical_columns)\n",
    "    ],\n",
    "    remainder='passthrough'\n",
    ")"
   ]
  },
  {
   "cell_type": "code",
   "execution_count": 5,
   "id": "59052280-12f9-4435-93e3-8d317e59b916",
   "metadata": {
    "tags": []
   },
   "outputs": [],
   "source": [
    "X_train, X_test, y_train, y_test = train_test_split(X, y, test_size=0.2, random_state=42)"
   ]
  },
  {
   "cell_type": "code",
   "execution_count": 7,
   "id": "b681be44-c4a9-43e9-ba77-f91c7f8f0e0b",
   "metadata": {
    "tags": []
   },
   "outputs": [],
   "source": [
    "X_ct_train = ct.fit_transform(X_train)\n",
    "X_ct_test = ct.transform(X_test)"
   ]
  },
  {
   "cell_type": "code",
   "execution_count": 8,
   "id": "4ae19ca1-fa46-47e4-b23c-c2a928d68c78",
   "metadata": {},
   "outputs": [
    {
     "data": {
      "text/html": [
       "<style>#sk-container-id-1 {color: black;}#sk-container-id-1 pre{padding: 0;}#sk-container-id-1 div.sk-toggleable {background-color: white;}#sk-container-id-1 label.sk-toggleable__label {cursor: pointer;display: block;width: 100%;margin-bottom: 0;padding: 0.3em;box-sizing: border-box;text-align: center;}#sk-container-id-1 label.sk-toggleable__label-arrow:before {content: \"▸\";float: left;margin-right: 0.25em;color: #696969;}#sk-container-id-1 label.sk-toggleable__label-arrow:hover:before {color: black;}#sk-container-id-1 div.sk-estimator:hover label.sk-toggleable__label-arrow:before {color: black;}#sk-container-id-1 div.sk-toggleable__content {max-height: 0;max-width: 0;overflow: hidden;text-align: left;background-color: #f0f8ff;}#sk-container-id-1 div.sk-toggleable__content pre {margin: 0.2em;color: black;border-radius: 0.25em;background-color: #f0f8ff;}#sk-container-id-1 input.sk-toggleable__control:checked~div.sk-toggleable__content {max-height: 200px;max-width: 100%;overflow: auto;}#sk-container-id-1 input.sk-toggleable__control:checked~label.sk-toggleable__label-arrow:before {content: \"▾\";}#sk-container-id-1 div.sk-estimator input.sk-toggleable__control:checked~label.sk-toggleable__label {background-color: #d4ebff;}#sk-container-id-1 div.sk-label input.sk-toggleable__control:checked~label.sk-toggleable__label {background-color: #d4ebff;}#sk-container-id-1 input.sk-hidden--visually {border: 0;clip: rect(1px 1px 1px 1px);clip: rect(1px, 1px, 1px, 1px);height: 1px;margin: -1px;overflow: hidden;padding: 0;position: absolute;width: 1px;}#sk-container-id-1 div.sk-estimator {font-family: monospace;background-color: #f0f8ff;border: 1px dotted black;border-radius: 0.25em;box-sizing: border-box;margin-bottom: 0.5em;}#sk-container-id-1 div.sk-estimator:hover {background-color: #d4ebff;}#sk-container-id-1 div.sk-parallel-item::after {content: \"\";width: 100%;border-bottom: 1px solid gray;flex-grow: 1;}#sk-container-id-1 div.sk-label:hover label.sk-toggleable__label {background-color: #d4ebff;}#sk-container-id-1 div.sk-serial::before {content: \"\";position: absolute;border-left: 1px solid gray;box-sizing: border-box;top: 0;bottom: 0;left: 50%;z-index: 0;}#sk-container-id-1 div.sk-serial {display: flex;flex-direction: column;align-items: center;background-color: white;padding-right: 0.2em;padding-left: 0.2em;position: relative;}#sk-container-id-1 div.sk-item {position: relative;z-index: 1;}#sk-container-id-1 div.sk-parallel {display: flex;align-items: stretch;justify-content: center;background-color: white;position: relative;}#sk-container-id-1 div.sk-item::before, #sk-container-id-1 div.sk-parallel-item::before {content: \"\";position: absolute;border-left: 1px solid gray;box-sizing: border-box;top: 0;bottom: 0;left: 50%;z-index: -1;}#sk-container-id-1 div.sk-parallel-item {display: flex;flex-direction: column;z-index: 1;position: relative;background-color: white;}#sk-container-id-1 div.sk-parallel-item:first-child::after {align-self: flex-end;width: 50%;}#sk-container-id-1 div.sk-parallel-item:last-child::after {align-self: flex-start;width: 50%;}#sk-container-id-1 div.sk-parallel-item:only-child::after {width: 0;}#sk-container-id-1 div.sk-dashed-wrapped {border: 1px dashed gray;margin: 0 0.4em 0.5em 0.4em;box-sizing: border-box;padding-bottom: 0.4em;background-color: white;}#sk-container-id-1 div.sk-label label {font-family: monospace;font-weight: bold;display: inline-block;line-height: 1.2em;}#sk-container-id-1 div.sk-label-container {text-align: center;}#sk-container-id-1 div.sk-container {/* jupyter's `normalize.less` sets `[hidden] { display: none; }` but bootstrap.min.css set `[hidden] { display: none !important; }` so we also need the `!important` here to be able to override the default hidden behavior on the sphinx rendered scikit-learn.org. See: https://github.com/scikit-learn/scikit-learn/issues/21755 */display: inline-block !important;position: relative;}#sk-container-id-1 div.sk-text-repr-fallback {display: none;}</style><div id=\"sk-container-id-1\" class=\"sk-top-container\"><div class=\"sk-text-repr-fallback\"><pre>RandomForestRegressor()</pre><b>In a Jupyter environment, please rerun this cell to show the HTML representation or trust the notebook. <br />On GitHub, the HTML representation is unable to render, please try loading this page with nbviewer.org.</b></div><div class=\"sk-container\" hidden><div class=\"sk-item\"><div class=\"sk-estimator sk-toggleable\"><input class=\"sk-toggleable__control sk-hidden--visually\" id=\"sk-estimator-id-1\" type=\"checkbox\" checked><label for=\"sk-estimator-id-1\" class=\"sk-toggleable__label sk-toggleable__label-arrow\">RandomForestRegressor</label><div class=\"sk-toggleable__content\"><pre>RandomForestRegressor()</pre></div></div></div></div></div>"
      ],
      "text/plain": [
       "RandomForestRegressor()"
      ]
     },
     "execution_count": 8,
     "metadata": {},
     "output_type": "execute_result"
    }
   ],
   "source": [
    "model = RandomForestRegressor()\n",
    "model.fit(X_ct_train, y_train)"
   ]
  },
  {
   "cell_type": "code",
   "execution_count": 9,
   "id": "b968f4d8-cf60-4efb-9e3c-a23aa744f065",
   "metadata": {},
   "outputs": [
    {
     "data": {
      "text/plain": [
       "0.9997287152945679"
      ]
     },
     "execution_count": 9,
     "metadata": {},
     "output_type": "execute_result"
    }
   ],
   "source": [
    "model.score(X_ct_test, y_test)"
   ]
  },
  {
   "cell_type": "code",
   "execution_count": 10,
   "id": "bde7413b-b341-470e-8924-babb5ef0d81a",
   "metadata": {},
   "outputs": [
    {
     "data": {
      "text/plain": [
       "array([13.,  8., 15., ..., 13.,  7.,  8.])"
      ]
     },
     "execution_count": 10,
     "metadata": {},
     "output_type": "execute_result"
    }
   ],
   "source": [
    "preds = model.predict(X_ct_test)\n",
    "preds"
   ]
  },
  {
   "cell_type": "code",
   "execution_count": 11,
   "id": "4070efb8-d839-4e4a-bb44-1b354d23e0fc",
   "metadata": {},
   "outputs": [
    {
     "data": {
      "text/plain": [
       "array([0.99936807, 0.99948619, 0.99973178])"
      ]
     },
     "execution_count": 11,
     "metadata": {},
     "output_type": "execute_result"
    }
   ],
   "source": [
    "cv_scores = cross_val_score(model, X_ct_train, y_train, cv=3)\n",
    "cv_scores"
   ]
  },
  {
   "cell_type": "code",
   "execution_count": 12,
   "id": "e278571b-9551-4edb-a887-a128be346885",
   "metadata": {},
   "outputs": [
    {
     "data": {
      "text/plain": [
       "0.9995286776142619"
      ]
     },
     "execution_count": 12,
     "metadata": {},
     "output_type": "execute_result"
    }
   ],
   "source": [
    "np.mean(cv_scores)"
   ]
  },
  {
   "cell_type": "code",
   "execution_count": null,
   "id": "48f35407-a804-49b8-953d-74a24095526e",
   "metadata": {},
   "outputs": [],
   "source": []
  }
 ],
 "metadata": {
  "kernelspec": {
   "display_name": "Python 3 (ipykernel)",
   "language": "python",
   "name": "python3"
  },
  "language_info": {
   "codemirror_mode": {
    "name": "ipython",
    "version": 3
   },
   "file_extension": ".py",
   "mimetype": "text/x-python",
   "name": "python",
   "nbconvert_exporter": "python",
   "pygments_lexer": "ipython3",
   "version": "3.11.4"
  }
 },
 "nbformat": 4,
 "nbformat_minor": 5
}
